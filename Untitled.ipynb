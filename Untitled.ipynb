{
 "cells": [
  {
   "cell_type": "code",
   "execution_count": 1,
   "metadata": {},
   "outputs": [],
   "source": [
    "from flask import Flask, render_template, redirect, url_for, Response, jsonify\n",
    "from bson import json_util\n",
    "from flask_pymongo import PyMongo\n",
    "from flask_cors import CORS, cross_origin\n",
    "import requests\n",
    "import json\n"
   ]
  },
  {
   "cell_type": "code",
   "execution_count": 2,
   "metadata": {},
   "outputs": [],
   "source": [
    "app = Flask(__name__)\n",
    "CORS(app, resources={\n",
    "    r\"/*\": {\n",
    "        \"origins\": \"*\"\n",
    "    }\n",
    "})\n",
    "app.config['CORS_HEADERS'] = 'Content-Type'\n",
    "app.config['CORS_ORIGINS'] = '*'\n",
    "\n",
    "app.config['DEBUG'] = True\n",
    "\n",
    "\n",
    "# Use flask_pymongo to set up mongo connection\n",
    "app.config[\"MONGO_URI\"] = \"mongodb://localhost:27017/superheroes\"\n",
    "mongo = PyMongo(app)\n",
    "\n",
    "# database\n",
    "superheroes = mongo.db\n",
    "\n",
    "# collection\n",
    "\n",
    "superdb = mongo.db.supers"
   ]
  },
  {
   "cell_type": "code",
   "execution_count": null,
   "metadata": {},
   "outputs": [],
   "source": [
    "db.collection.distinct()"
   ]
  }
 ],
 "metadata": {
  "kernelspec": {
   "display_name": "Python 3",
   "language": "python",
   "name": "python3"
  },
  "language_info": {
   "codemirror_mode": {
    "name": "ipython",
    "version": 3
   },
   "file_extension": ".py",
   "mimetype": "text/x-python",
   "name": "python",
   "nbconvert_exporter": "python",
   "pygments_lexer": "ipython3",
   "version": "3.7.6"
  }
 },
 "nbformat": 4,
 "nbformat_minor": 4
}
